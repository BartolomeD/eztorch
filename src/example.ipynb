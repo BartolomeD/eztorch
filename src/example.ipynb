{
 "cells": [
  {
   "cell_type": "code",
   "execution_count": 1,
   "metadata": {},
   "outputs": [],
   "source": [
    "from eztorch import MLPClassifier\n",
    "from sklearn.neural_network import MLPClassifier as sk_MLPClassifier\n",
    "\n",
    "from sklearn.datasets import make_classification\n",
    "from sklearn.model_selection import train_test_split\n",
    "from sklearn.metrics import classification_report, accuracy_score"
   ]
  },
  {
   "cell_type": "code",
   "execution_count": 2,
   "metadata": {},
   "outputs": [],
   "source": [
    "x_train, y_train = make_classification(n_samples=2000)\n",
    "x_train, x_test, y_train, y_test = train_test_split(x_train, y_train)"
   ]
  },
  {
   "cell_type": "code",
   "execution_count": 3,
   "metadata": {},
   "outputs": [],
   "source": [
    "def eztorch():\n",
    "    model = MLPClassifier(n_features=20, n_classes=2, hidden_layer_sizes=(100, 100,))\n",
    "    model.fit(x_train, y_train)\n",
    "    preds = model.predict(x_test)\n",
    "\n",
    "    print(classification_report(preds, y_test))\n",
    "    print(accuracy_score(preds, y_test))\n",
    "    print('')"
   ]
  },
  {
   "cell_type": "code",
   "execution_count": 4,
   "metadata": {},
   "outputs": [],
   "source": [
    "def sklearn():\n",
    "    model2 = sk_MLPClassifier(hidden_layer_sizes=(100, 100,), alpha=1e-3, batch_size=10, max_iter=10)\n",
    "    model2.fit(x_train, y_train)\n",
    "    preds = model2.predict(x_test)\n",
    "\n",
    "    print(classification_report(preds, y_test))\n",
    "    print(accuracy_score(preds, y_test))\n",
    "    print('')"
   ]
  },
  {
   "cell_type": "code",
   "execution_count": 5,
   "metadata": {},
   "outputs": [
    {
     "name": "stdout",
     "output_type": "stream",
     "text": [
      "             precision    recall  f1-score   support\n",
      "\n",
      "          0       0.94      0.86      0.90       273\n",
      "          1       0.85      0.94      0.89       227\n",
      "\n",
      "avg / total       0.90      0.90      0.90       500\n",
      "\n",
      "0.896\n",
      "\n",
      "CPU times: user 457 ms, sys: 11.9 ms, total: 469 ms\n",
      "Wall time: 171 ms\n"
     ]
    }
   ],
   "source": [
    "%time eztorch()"
   ]
  },
  {
   "cell_type": "code",
   "execution_count": 6,
   "metadata": {},
   "outputs": [
    {
     "name": "stdout",
     "output_type": "stream",
     "text": [
      "             precision    recall  f1-score   support\n",
      "\n",
      "          0       0.90      0.87      0.88       257\n",
      "          1       0.86      0.89      0.88       243\n",
      "\n",
      "avg / total       0.88      0.88      0.88       500\n",
      "\n",
      "0.88\n",
      "\n",
      "CPU times: user 1.63 s, sys: 27.9 ms, total: 1.66 s\n",
      "Wall time: 836 ms\n"
     ]
    },
    {
     "name": "stderr",
     "output_type": "stream",
     "text": [
      "/home/daniel/miniconda3/lib/python3.6/site-packages/sklearn/neural_network/multilayer_perceptron.py:564: ConvergenceWarning: Stochastic Optimizer: Maximum iterations (10) reached and the optimization hasn't converged yet.\n",
      "  % self.max_iter, ConvergenceWarning)\n"
     ]
    }
   ],
   "source": [
    "%time sklearn()"
   ]
  }
 ],
 "metadata": {
  "kernelspec": {
   "display_name": "Python 3",
   "language": "python",
   "name": "python3"
  },
  "language_info": {
   "codemirror_mode": {
    "name": "ipython",
    "version": 3
   },
   "file_extension": ".py",
   "mimetype": "text/x-python",
   "name": "python",
   "nbconvert_exporter": "python",
   "pygments_lexer": "ipython3",
   "version": "3.6.4"
  }
 },
 "nbformat": 4,
 "nbformat_minor": 2
}
